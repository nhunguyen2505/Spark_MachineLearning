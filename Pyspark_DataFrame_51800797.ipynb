{
  "nbformat": 4,
  "nbformat_minor": 0,
  "metadata": {
    "colab": {
      "name": "Pyspark.ipynb",
      "provenance": []
    },
    "kernelspec": {
      "name": "python3",
      "display_name": "Python 3"
    },
    "language_info": {
      "name": "python"
    }
  },
  "cells": [
    {
      "cell_type": "code",
      "metadata": {
        "colab": {
          "base_uri": "https://localhost:8080/"
        },
        "id": "VyvS65NlV-sm",
        "outputId": "b3203443-1bfa-4ef5-cab0-c8d3f6c40e26"
      },
      "source": [
        "pip install pyspark"
      ],
      "execution_count": 2,
      "outputs": [
        {
          "output_type": "stream",
          "text": [
            "Collecting pyspark\n",
            "\u001b[?25l  Downloading https://files.pythonhosted.org/packages/45/b0/9d6860891ab14a39d4bddf80ba26ce51c2f9dc4805e5c6978ac0472c120a/pyspark-3.1.1.tar.gz (212.3MB)\n",
            "\u001b[K     |████████████████████████████████| 212.3MB 65kB/s \n",
            "\u001b[?25hCollecting py4j==0.10.9\n",
            "\u001b[?25l  Downloading https://files.pythonhosted.org/packages/9e/b6/6a4fb90cd235dc8e265a6a2067f2a2c99f0d91787f06aca4bcf7c23f3f80/py4j-0.10.9-py2.py3-none-any.whl (198kB)\n",
            "\u001b[K     |████████████████████████████████| 204kB 46.8MB/s \n",
            "\u001b[?25hBuilding wheels for collected packages: pyspark\n",
            "  Building wheel for pyspark (setup.py) ... \u001b[?25l\u001b[?25hdone\n",
            "  Created wheel for pyspark: filename=pyspark-3.1.1-py2.py3-none-any.whl size=212767604 sha256=b2ff048cad16d4ca7c7aa4c9c763fb014da4e770c11c6965650c53d563bba4fc\n",
            "  Stored in directory: /root/.cache/pip/wheels/0b/90/c0/01de724414ef122bd05f056541fb6a0ecf47c7ca655f8b3c0f\n",
            "Successfully built pyspark\n",
            "Installing collected packages: py4j, pyspark\n",
            "Successfully installed py4j-0.10.9 pyspark-3.1.1\n"
          ],
          "name": "stdout"
        }
      ]
    },
    {
      "cell_type": "code",
      "metadata": {
        "id": "_mWLUvfaVUwj"
      },
      "source": [
        "from pyspark.sql import *"
      ],
      "execution_count": 3,
      "outputs": []
    },
    {
      "cell_type": "code",
      "metadata": {
        "colab": {
          "base_uri": "https://localhost:8080/"
        },
        "id": "ifGiAgmcVhV9",
        "outputId": "38db9760-b862-4b17-9d15-964c0e7d488c"
      },
      "source": [
        "# Create the Departments\n",
        "de1 = Row(id='01', name='Computer Science')\n",
        "de2 = Row(id='02', name='Software Engineering')\n",
        "\n",
        "# Create the Student\n",
        "Student = Row(\"Name\", \"MSSV\",\"Salary\")\n",
        "student1 = Student('Nguyen Tran Quynh Nhu', '51800797',1000)\n",
        "student4 = Student('Tran Quoc Sanh','51800809',2000)\n",
        "student2 = Student('Pham Tommy','51800640',1500)\n",
        "student3 = Student('Nguyen Thi Thanh Truc','51800944',1700)\n",
        "student5 = Student('Tran Thanh Trung','51800646',1100)\n",
        "student6 = Student('Pham Quoc Vuong','51800161',1300)\n",
        "student7 = Student('Tran Thi Kim Tuyen','51800111',1400)\n",
        "student8 = Student('Nguyen Hoang Long','51800576',1600)\n",
        "\n",
        "\n",
        "de2_student1 = Row(department=de2, student=[student1,student4])\n",
        "de1_student23 = Row(department = de1, student = [student2,student3])\n",
        "\n",
        "print(de2)\n",
        "print(student1)\n",
        "print(de2_student1.student[0].MSSV)"
      ],
      "execution_count": 87,
      "outputs": [
        {
          "output_type": "stream",
          "text": [
            "Row(id='02', name='Software Engineering')\n",
            "Row(Name='Nguyen Tran Quynh Nhu', MSSV='51800797', Salary=1000)\n",
            "51800797\n"
          ],
          "name": "stdout"
        }
      ]
    },
    {
      "cell_type": "code",
      "metadata": {
        "colab": {
          "base_uri": "https://localhost:8080/",
          "height": 35
        },
        "id": "X30SOh47ZFuP",
        "outputId": "b26b20ff-25fa-4f1e-a9ca-a4378d7684aa"
      },
      "source": [
        "spark = SparkSession.builder.master(\"local[1]\").appName(\"SparkByExamples.com\").getOrCreate()\n",
        "df = spark.createDataFrame([de2_student1,de1_student23])\n",
        "display(df)"
      ],
      "execution_count": 88,
      "outputs": [
        {
          "output_type": "display_data",
          "data": {
            "text/plain": [
              "DataFrame[department: struct<id:string,name:string>, student: array<struct<Name:string,MSSV:string,Salary:bigint>>]"
            ]
          },
          "metadata": {
            "tags": []
          }
        }
      ]
    },
    {
      "cell_type": "code",
      "metadata": {
        "colab": {
          "base_uri": "https://localhost:8080/",
          "height": 35
        },
        "id": "DDDqL7P1btI9",
        "outputId": "0ba66068-da8d-46bc-d20b-fcddde38fa29"
      },
      "source": [
        "df2 = spark.createDataFrame([Row(department = de2, student = [student6,student7]),Row(department = de1, student = [student5,student8])])\n",
        "display(df2)"
      ],
      "execution_count": 89,
      "outputs": [
        {
          "output_type": "display_data",
          "data": {
            "text/plain": [
              "DataFrame[department: struct<id:string,name:string>, student: array<struct<Name:string,MSSV:string,Salary:bigint>>]"
            ]
          },
          "metadata": {
            "tags": []
          }
        }
      ]
    },
    {
      "cell_type": "code",
      "metadata": {
        "colab": {
          "base_uri": "https://localhost:8080/",
          "height": 195
        },
        "id": "-1xGkxHvefUr",
        "outputId": "cc764e64-103f-44e9-f64d-1aa4f3f4448b"
      },
      "source": [
        "unionDF = df.union(df2)\n",
        "unionDF.show()\n",
        "display(unionDF)"
      ],
      "execution_count": 90,
      "outputs": [
        {
          "output_type": "stream",
          "text": [
            "+--------------------+--------------------+\n",
            "|          department|             student|\n",
            "+--------------------+--------------------+\n",
            "|{02, Software Eng...|[{Nguyen Tran Quy...|\n",
            "|{01, Computer Sci...|[{Pham Tommy, 518...|\n",
            "|{02, Software Eng...|[{Pham Quoc Vuong...|\n",
            "|{01, Computer Sci...|[{Tran Thanh Trun...|\n",
            "+--------------------+--------------------+\n",
            "\n"
          ],
          "name": "stdout"
        },
        {
          "output_type": "display_data",
          "data": {
            "text/plain": [
              "DataFrame[department: struct<id:string,name:string>, student: array<struct<Name:string,MSSV:string,Salary:bigint>>]"
            ]
          },
          "metadata": {
            "tags": []
          }
        }
      ]
    },
    {
      "cell_type": "code",
      "metadata": {
        "id": "6ErGYu23ezgB"
      },
      "source": [
        "#Đọc data từ Parquet\n",
        "# parquetDF = spark.read.parquet(\"/tmp/databricks-df-example.parquet\")\n",
        "# display(parquetDF)"
      ],
      "execution_count": 51,
      "outputs": []
    },
    {
      "cell_type": "code",
      "metadata": {
        "colab": {
          "base_uri": "https://localhost:8080/"
        },
        "id": "g3P101sxgo3c",
        "outputId": "d9b1ad5b-2ffb-49c3-9ce7-004e8e7388b0"
      },
      "source": [
        "from pyspark.sql.functions import explode\n",
        "\n",
        "explodeDF = unionDF.select(explode(\"student\").alias(\"st\"))\n",
        "flattenDF = explodeDF.selectExpr(\"st.name\", \"st.MSSV\",\"st.Salary\")\n",
        "\n",
        "flattenDF.show()"
      ],
      "execution_count": 92,
      "outputs": [
        {
          "output_type": "stream",
          "text": [
            "+--------------------+--------+------+\n",
            "|                name|    MSSV|Salary|\n",
            "+--------------------+--------+------+\n",
            "|Nguyen Tran Quynh...|51800797|  1000|\n",
            "|      Tran Quoc Sanh|51800809|  2000|\n",
            "|          Pham Tommy|51800640|  1500|\n",
            "|Nguyen Thi Thanh ...|51800944|  1700|\n",
            "|     Pham Quoc Vuong|51800161|  1300|\n",
            "|  Tran Thi Kim Tuyen|51800111|  1400|\n",
            "|    Tran Thanh Trung|51800646|  1100|\n",
            "|   Nguyen Hoang Long|51800576|  1600|\n",
            "+--------------------+--------+------+\n",
            "\n"
          ],
          "name": "stdout"
        }
      ]
    },
    {
      "cell_type": "code",
      "metadata": {
        "colab": {
          "base_uri": "https://localhost:8080/"
        },
        "id": "dLzhBjJyh90q",
        "outputId": "5307bd17-50d0-4760-87a3-d0b98138b68b"
      },
      "source": [
        "#Dùng filter để trả về các hàng khớp với điều kiện\n",
        "filterDF = flattenDF.filter(flattenDF.name == \"Nguyen Tran Quynh Nhu\").sort(flattenDF.MSSV)\n",
        "filterDF.show()"
      ],
      "execution_count": 93,
      "outputs": [
        {
          "output_type": "stream",
          "text": [
            "+--------------------+--------+------+\n",
            "|                name|    MSSV|Salary|\n",
            "+--------------------+--------+------+\n",
            "|Nguyen Tran Quynh...|51800797|  1000|\n",
            "+--------------------+--------+------+\n",
            "\n"
          ],
          "name": "stdout"
        }
      ]
    },
    {
      "cell_type": "code",
      "metadata": {
        "colab": {
          "base_uri": "https://localhost:8080/"
        },
        "id": "A7xXO3ukief0",
        "outputId": "f15f577f-ea65-487f-d9d2-0f114c718291"
      },
      "source": [
        "from pyspark.sql.functions import col, asc\n",
        "\n",
        "filterDF = flattenDF.filter((col(\"name\") == \"Nguyen Tran Quynh Nhu\") | (col(\"name\") == \"Tran Quoc Sanh\")).sort(asc(\"MSSV\"))\n",
        "filterDF.show()"
      ],
      "execution_count": 94,
      "outputs": [
        {
          "output_type": "stream",
          "text": [
            "+--------------------+--------+------+\n",
            "|                name|    MSSV|Salary|\n",
            "+--------------------+--------+------+\n",
            "|Nguyen Tran Quynh...|51800797|  1000|\n",
            "|      Tran Quoc Sanh|51800809|  2000|\n",
            "+--------------------+--------+------+\n",
            "\n"
          ],
          "name": "stdout"
        }
      ]
    },
    {
      "cell_type": "markdown",
      "metadata": {
        "id": "W41--ttQeS_a"
      },
      "source": [
        ""
      ]
    },
    {
      "cell_type": "code",
      "metadata": {
        "colab": {
          "base_uri": "https://localhost:8080/"
        },
        "id": "tZiZrLG9jDHY",
        "outputId": "758bad25-9c8d-4a6f-82a4-ce6a24b444f1"
      },
      "source": [
        "#where() tương đương với filter()\n",
        "whereDF = flattenDF.where((col(\"name\") == \"Nguyen Tran Quynh Nhu\") | (col(\"name\") == \"Tran Quoc Sanh\")).sort(asc(\"MSSV\"))\n",
        "whereDF.show()"
      ],
      "execution_count": 95,
      "outputs": [
        {
          "output_type": "stream",
          "text": [
            "+--------------------+--------+------+\n",
            "|                name|    MSSV|Salary|\n",
            "+--------------------+--------+------+\n",
            "|Nguyen Tran Quynh...|51800797|  1000|\n",
            "|      Tran Quoc Sanh|51800809|  2000|\n",
            "+--------------------+--------+------+\n",
            "\n"
          ],
          "name": "stdout"
        }
      ]
    },
    {
      "cell_type": "code",
      "metadata": {
        "colab": {
          "base_uri": "https://localhost:8080/",
          "height": 568
        },
        "id": "ElBiIA-hkoME",
        "outputId": "74fcccee-a9e4-4aa3-d973-8d4e8ac6d96d"
      },
      "source": [
        "#Thay thế null bằng -- sử dụng DataFrame\n",
        "from pyspark.sql.functions import lit\n",
        "from pyspark.sql.types import StringType\n",
        "\n",
        "import pandas as pd\n",
        "display(flattenDF)\n",
        "data =[('Nguyen Thi Anh Thu',None,1450),[None,'51800044',990]]\n",
        "newRow = spark.createDataFrame(data,[\"name\",\"MSSV\"])\n",
        "flattenDF = flattenDF.union(newRow)\n",
        "flattenDF.show()\n",
        "\n",
        "nonNullDF = flattenDF.fillna(\"--\")\n",
        "nonNullDF.show()"
      ],
      "execution_count": 96,
      "outputs": [
        {
          "output_type": "display_data",
          "data": {
            "text/plain": [
              "DataFrame[name: string, MSSV: string, Salary: bigint]"
            ]
          },
          "metadata": {
            "tags": []
          }
        },
        {
          "output_type": "stream",
          "text": [
            "+--------------------+--------+------+\n",
            "|                name|    MSSV|Salary|\n",
            "+--------------------+--------+------+\n",
            "|Nguyen Tran Quynh...|51800797|  1000|\n",
            "|      Tran Quoc Sanh|51800809|  2000|\n",
            "|          Pham Tommy|51800640|  1500|\n",
            "|Nguyen Thi Thanh ...|51800944|  1700|\n",
            "|     Pham Quoc Vuong|51800161|  1300|\n",
            "|  Tran Thi Kim Tuyen|51800111|  1400|\n",
            "|    Tran Thanh Trung|51800646|  1100|\n",
            "|   Nguyen Hoang Long|51800576|  1600|\n",
            "|  Nguyen Thi Anh Thu|    null|  1450|\n",
            "|                null|51800044|   990|\n",
            "+--------------------+--------+------+\n",
            "\n",
            "+--------------------+--------+------+\n",
            "|                name|    MSSV|Salary|\n",
            "+--------------------+--------+------+\n",
            "|Nguyen Tran Quynh...|51800797|  1000|\n",
            "|      Tran Quoc Sanh|51800809|  2000|\n",
            "|          Pham Tommy|51800640|  1500|\n",
            "|Nguyen Thi Thanh ...|51800944|  1700|\n",
            "|     Pham Quoc Vuong|51800161|  1300|\n",
            "|  Tran Thi Kim Tuyen|51800111|  1400|\n",
            "|    Tran Thanh Trung|51800646|  1100|\n",
            "|   Nguyen Hoang Long|51800576|  1600|\n",
            "|  Nguyen Thi Anh Thu|      --|  1450|\n",
            "|                  --|51800044|   990|\n",
            "+--------------------+--------+------+\n",
            "\n"
          ],
          "name": "stdout"
        }
      ]
    },
    {
      "cell_type": "code",
      "metadata": {
        "colab": {
          "base_uri": "https://localhost:8080/"
        },
        "id": "BMzSQE4Txr3U",
        "outputId": "b3e7bd2e-bfcb-4e15-a9a0-8b9c3d05b879"
      },
      "source": [
        "#Trích xuất thông tin của student có name bị thiếu\n",
        "filterNonNullDF = flattenDF.filter(col('name').isNull()).sort('MSSV')\n",
        "filterNonNullDF.show()"
      ],
      "execution_count": 97,
      "outputs": [
        {
          "output_type": "stream",
          "text": [
            "+----+--------+------+\n",
            "|name|    MSSV|Salary|\n",
            "+----+--------+------+\n",
            "|null|51800044|   990|\n",
            "+----+--------+------+\n",
            "\n"
          ],
          "name": "stdout"
        }
      ]
    },
    {
      "cell_type": "code",
      "metadata": {
        "colab": {
          "base_uri": "https://localhost:8080/"
        },
        "id": "XshZgW3SyKQX",
        "outputId": "dae298cc-0b12-411c-c914-9cc5fcda4c06"
      },
      "source": [
        "from pyspark.sql.functions import countDistinct\n",
        "#sử dụng agg() và countDistinct\n",
        "countDistinctDF = nonNullDF.select(\"name\",\"Salary\").groupBy(\"name\").agg(countDistinct(\"Salary\").alias(\"distinct_MSSV\"))\n",
        "countDistinctDF.show()"
      ],
      "execution_count": 98,
      "outputs": [
        {
          "output_type": "stream",
          "text": [
            "+--------------------+-------------+\n",
            "|                name|distinct_MSSV|\n",
            "+--------------------+-------------+\n",
            "|  Nguyen Thi Anh Thu|            1|\n",
            "|      Tran Quoc Sanh|            1|\n",
            "|    Tran Thanh Trung|            1|\n",
            "|   Nguyen Hoang Long|            1|\n",
            "|          Pham Tommy|            1|\n",
            "|Nguyen Thi Thanh ...|            1|\n",
            "|  Tran Thi Kim Tuyen|            1|\n",
            "|Nguyen Tran Quynh...|            1|\n",
            "|                  --|            1|\n",
            "|     Pham Quoc Vuong|            1|\n",
            "+--------------------+-------------+\n",
            "\n"
          ],
          "name": "stdout"
        }
      ]
    },
    {
      "cell_type": "code",
      "metadata": {
        "colab": {
          "base_uri": "https://localhost:8080/"
        },
        "id": "5Durzc-RzQ-h",
        "outputId": "109479e1-8c70-4281-ea2c-3e32ea1a3504"
      },
      "source": [
        "#Cộng tất cả các Salary\n",
        "MSSVSumDF = nonNullDF.agg({\"Salary\" : \"sum\"})\n",
        "MSSVSumDF.show()"
      ],
      "execution_count": 99,
      "outputs": [
        {
          "output_type": "stream",
          "text": [
            "+-----------+\n",
            "|sum(Salary)|\n",
            "+-----------+\n",
            "|      14040|\n",
            "+-----------+\n",
            "\n"
          ],
          "name": "stdout"
        }
      ]
    },
    {
      "cell_type": "code",
      "metadata": {
        "colab": {
          "base_uri": "https://localhost:8080/"
        },
        "id": "RBwrL_Ou0Amc",
        "outputId": "d524513a-f5e2-4b63-99b9-54086e311cd2"
      },
      "source": [
        "#In thống kê Salary\n",
        "nonNullDF.describe(\"Salary\").show()"
      ],
      "execution_count": 100,
      "outputs": [
        {
          "output_type": "stream",
          "text": [
            "+-------+-----------------+\n",
            "|summary|           Salary|\n",
            "+-------+-----------------+\n",
            "|  count|               10|\n",
            "|   mean|           1404.0|\n",
            "| stddev|321.5310594984911|\n",
            "|    min|              990|\n",
            "|    max|             2000|\n",
            "+-------+-----------------+\n",
            "\n"
          ],
          "name": "stdout"
        }
      ]
    },
    {
      "cell_type": "code",
      "metadata": {
        "colab": {
          "base_uri": "https://localhost:8080/",
          "height": 381
        },
        "id": "fceGaDr70Q3_",
        "outputId": "7c3fd6e6-cc7c-4ccf-baf9-10074e091a90"
      },
      "source": [
        "#Tích hợp pandas và Matlotlib\n",
        "\n",
        "import pandas as pd\n",
        "import matplotlib.pyplot as plt\n",
        "plt.clf()\n",
        "pdDF = nonNullDF.toPandas()\n",
        "pdDF.plot(x='name', y='Salary', kind='bar', rot=45)\n",
        "display()"
      ],
      "execution_count": 101,
      "outputs": [
        {
          "output_type": "display_data",
          "data": {
            "text/plain": [
              "<Figure size 432x288 with 0 Axes>"
            ]
          },
          "metadata": {
            "tags": []
          }
        },
        {
          "output_type": "display_data",
          "data": {
            "image/png": "[encoded data removed]",
            "text/plain": [
              "<Figure size 432x288 with 1 Axes>"
            ]
          },
          "metadata": {
            "tags": [],
            "needs_background": "light"
          }
        }
      ]
    },
    {
      "cell_type": "code",
      "metadata": {
        "colab": {
          "base_uri": "https://localhost:8080/"
        },
        "id": "rSjKsoMG1h8N",
        "outputId": "aa03634a-1183-425e-d0f1-6f93df6eca7a"
      },
      "source": [
        "from pyspark.sql import functions as F\n",
        "from pyspark.sql.types import *\n",
        "\n",
        "\n",
        "df = spark.read.format(\"csv\").options(header='true', delimiter = ',').load(\"/content/sample_data/dataframe_sample.csv\")\n",
        "df.printSchema()"
      ],
      "execution_count": 106,
      "outputs": [
        {
          "output_type": "stream",
          "text": [
            "root\n",
            " |-- id: string (nullable = true)\n",
            " |-- end_date: string (nullable = true)\n",
            " |-- start_date: string (nullable = true)\n",
            " |-- location: string (nullable = true)\n",
            "\n"
          ],
          "name": "stdout"
        }
      ]
    },
    {
      "cell_type": "code",
      "metadata": {
        "colab": {
          "base_uri": "https://localhost:8080/"
        },
        "id": "oeODEVFg3iws",
        "outputId": "e4ec556b-16ec-480f-ba1d-d5216b5a26b0"
      },
      "source": [
        "from pyspark.sql import functions as F\n",
        "from pyspark.sql.functions import udf\n",
        "add_n = udf(lambda x, y: x + y, IntegerType())\n",
        "\n",
        "# Thêm một cột id_offset\n",
        "df = df.withColumn('id_offset', add_n(F.lit(1000), df.id.cast(IntegerType())))\n",
        "df.show()\n"
      ],
      "execution_count": 109,
      "outputs": [
        {
          "output_type": "stream",
          "text": [
            "+---+-------------------+-------------------+--------+---------+\n",
            "| id|           end_date|         start_date|location|id_offset|\n",
            "+---+-------------------+-------------------+--------+---------+\n",
            "|  1|2015-10-14 00:00:00|2015-09-14 00:00:00|   CA-SF|     1001|\n",
            "|  2|2015-10-15 01:00:20|2015-08-14 00:00:00|   CA-SD|     1002|\n",
            "|  3|2015-10-16 02:30:00|2015-01-14 00:00:00|   NY-NY|     1003|\n",
            "|  4|2015-10-17 03:00:20|2015-02-14 00:00:00|   NY-NY|     1004|\n",
            "|  5|2015-10-18 04:30:00|2014-04-14 00:00:00|   CA-SD|     1005|\n",
            "+---+-------------------+-------------------+--------+---------+\n",
            "\n"
          ],
          "name": "stdout"
        }
      ]
    },
    {
      "cell_type": "code",
      "metadata": {
        "colab": {
          "base_uri": "https://localhost:8080/"
        },
        "id": "65veqlDi40sw",
        "outputId": "514249f4-f077-4750-bfed-311282541073"
      },
      "source": [
        "N = 90\n",
        "last_n_days = udf(lambda x: x < N, BooleanType())\n",
        "df = df.withColumn('date_diff', F.datediff(F.to_date(df.end_date), F.to_date(df.start_date)))\n",
        "df_filtered = df.filter(last_n_days(df.date_diff))\n",
        "df_filtered.show()"
      ],
      "execution_count": 114,
      "outputs": [
        {
          "output_type": "stream",
          "text": [
            "+---+-------------------+-------------------+--------+---------+---------+\n",
            "| id|           end_date|         start_date|location|id_offset|date_diff|\n",
            "+---+-------------------+-------------------+--------+---------+---------+\n",
            "|  1|2015-10-14 00:00:00|2015-09-14 00:00:00|   CA-SF|     1001|       30|\n",
            "|  2|2015-10-15 01:00:20|2015-08-14 00:00:00|   CA-SD|     1002|       62|\n",
            "+---+-------------------+-------------------+--------+---------+---------+\n",
            "\n"
          ],
          "name": "stdout"
        }
      ]
    },
    {
      "cell_type": "code",
      "metadata": {
        "colab": {
          "base_uri": "https://localhost:8080/"
        },
        "id": "ZeRvZ7lV6X95",
        "outputId": "6977cf10-7e5c-423f-d0ba-a14698b22c10"
      },
      "source": [
        "# Provide the min, count, and avg and groupBy the location column. Diplay the results\n",
        "agg_df = df.groupBy(\"location\").agg(F.min(\"id\"), F.count(\"id\"), F.avg(\"date_diff\"))\n",
        "agg_df.show()"
      ],
      "execution_count": 116,
      "outputs": [
        {
          "output_type": "stream",
          "text": [
            "+--------+-------+---------+--------------+\n",
            "|location|min(id)|count(id)|avg(date_diff)|\n",
            "+--------+-------+---------+--------------+\n",
            "|   NY-NY|      3|        2|         260.0|\n",
            "|   CA-SF|      1|        1|          30.0|\n",
            "|   CA-SD|      2|        2|         307.0|\n",
            "+--------+-------+---------+--------------+\n",
            "\n"
          ],
          "name": "stdout"
        }
      ]
    },
    {
      "cell_type": "code",
      "metadata": {
        "id": "XyKlGmql6tv_"
      },
      "source": [
        ""
      ],
      "execution_count": null,
      "outputs": []
    },
    {
      "cell_type": "markdown",
      "metadata": {
        "id": "krjPPBD9kn6_"
      },
      "source": [
        ""
      ]
    }
  ]
}