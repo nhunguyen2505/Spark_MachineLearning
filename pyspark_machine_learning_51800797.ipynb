{
  "nbformat": 4,
  "nbformat_minor": 0,
  "metadata": {
    "colab": {
      "name": "pyspark_machine_learning.ipynb",
      "provenance": []
    },
    "kernelspec": {
      "name": "python3",
      "display_name": "Python 3"
    },
    "language_info": {
      "name": "python"
    }
  },
  "cells": [
    {
      "cell_type": "code",
      "metadata": {
        "colab": {
          "base_uri": "https://localhost:8080/"
        },
        "id": "lgFBTpDE98RY",
        "outputId": "46499b93-f6c8-4a53-d485-e530983ed8db"
      },
      "source": [
        "!pip install pyspark"
      ],
      "execution_count": 58,
      "outputs": [
        {
          "output_type": "stream",
          "text": [
            "Requirement already satisfied: pyspark in /usr/local/lib/python3.7/dist-packages (3.1.1)\n",
            "Requirement already satisfied: py4j==0.10.9 in /usr/local/lib/python3.7/dist-packages (from pyspark) (0.10.9)\n"
          ],
          "name": "stdout"
        }
      ]
    },
    {
      "cell_type": "code",
      "metadata": {
        "id": "pfoXruAM9rtz"
      },
      "source": [
        "from pyspark.context import SparkContext\n",
        "from pyspark.sql.session import SparkSession\n",
        "spark = SparkSession.builder.appName('Bank').getOrCreate()"
      ],
      "execution_count": 134,
      "outputs": []
    },
    {
      "cell_type": "code",
      "metadata": {
        "colab": {
          "base_uri": "https://localhost:8080/"
        },
        "id": "X6P-Xx6F8Jb6",
        "outputId": "223ac9ba-6839-44c7-e232-31c1bca4a2d8"
      },
      "source": [
        "# đọc dữ liệu với spark\n",
        "df = spark.read.csv('/content/sample_data/bank.csv',header=True)\n",
        "\n",
        "df.printSchema()"
      ],
      "execution_count": 135,
      "outputs": [
        {
          "output_type": "stream",
          "text": [
            "root\n",
            " |-- age: string (nullable = true)\n",
            " |-- job: string (nullable = true)\n",
            " |-- marital: string (nullable = true)\n",
            " |-- education: string (nullable = true)\n",
            " |-- default: string (nullable = true)\n",
            " |-- balance: string (nullable = true)\n",
            " |-- housing: string (nullable = true)\n",
            " |-- loan: string (nullable = true)\n",
            " |-- contact: string (nullable = true)\n",
            " |-- day: string (nullable = true)\n",
            " |-- month: string (nullable = true)\n",
            " |-- duration: string (nullable = true)\n",
            " |-- campaign: string (nullable = true)\n",
            " |-- pdays: string (nullable = true)\n",
            " |-- previous: string (nullable = true)\n",
            " |-- poutcome: string (nullable = true)\n",
            " |-- deposit: string (nullable = true)\n",
            "\n"
          ],
          "name": "stdout"
        }
      ]
    },
    {
      "cell_type": "code",
      "metadata": {
        "colab": {
          "base_uri": "https://localhost:8080/"
        },
        "id": "mOStq_1y-tBX",
        "outputId": "42e4b894-c5a6-4868-b9dd-08df7a222ce7"
      },
      "source": [
        "import pyspark.sql.types as tp\n",
        "\n",
        "# xác định lược đồ\n",
        "df_schema = tp.StructType([\n",
        "    tp.StructField(name= 'age',      dataType= tp.IntegerType(),   nullable= True),\n",
        "    tp.StructField(name= 'job', dataType= tp.StringType(),    nullable= True),\n",
        "    tp.StructField(name= 'marital',       dataType= tp.StringType(),   nullable= True),\n",
        "    tp.StructField(name= 'education',  dataType= tp.StringType(),    nullable= True),\n",
        "    tp.StructField(name= 'default',   dataType= tp.StringType(),    nullable= True),\n",
        "    tp.StructField(name= 'balance',       dataType= tp.IntegerType(),    nullable= True),\n",
        "    tp.StructField(name= 'housing',      dataType= tp.StringType(),   nullable= True),\n",
        "    tp.StructField(name= 'loan', dataType= tp.StringType(),    nullable= True),\n",
        "    tp.StructField(name= 'contact',       dataType= tp.StringType(),   nullable= True),\n",
        "    tp.StructField(name= 'day',  dataType= tp.IntegerType(),    nullable= True),\n",
        "    tp.StructField(name= 'month',   dataType= tp.StringType(),    nullable= True),\n",
        "    tp.StructField(name= 'duration',       dataType= tp.IntegerType(),    nullable= True),\n",
        "    tp.StructField(name= 'campaign', dataType= tp.IntegerType(),    nullable= True),\n",
        "    tp.StructField(name= 'pdays',       dataType= tp.IntegerType(),   nullable= True),\n",
        "    tp.StructField(name= 'previous',  dataType= tp.IntegerType(),    nullable= True),\n",
        "    tp.StructField(name= 'poutcome',   dataType= tp.StringType(),    nullable= True),\n",
        "    tp.StructField(name= 'deposit',       dataType= tp.StringType(),    nullable= True) \n",
        "])\n",
        "\n",
        "# đọc dữ liệu với lược đồ đã xác định\n",
        "df = spark.read.csv('/content/sample_data/bank.csv',schema= df_schema,header= True)\n",
        "\n",
        "# in lược đồ\n",
        "df.printSchema()"
      ],
      "execution_count": 136,
      "outputs": [
        {
          "output_type": "stream",
          "text": [
            "root\n",
            " |-- age: integer (nullable = true)\n",
            " |-- job: string (nullable = true)\n",
            " |-- marital: string (nullable = true)\n",
            " |-- education: string (nullable = true)\n",
            " |-- default: string (nullable = true)\n",
            " |-- balance: integer (nullable = true)\n",
            " |-- housing: string (nullable = true)\n",
            " |-- loan: string (nullable = true)\n",
            " |-- contact: string (nullable = true)\n",
            " |-- day: integer (nullable = true)\n",
            " |-- month: string (nullable = true)\n",
            " |-- duration: integer (nullable = true)\n",
            " |-- campaign: integer (nullable = true)\n",
            " |-- pdays: integer (nullable = true)\n",
            " |-- previous: integer (nullable = true)\n",
            " |-- poutcome: string (nullable = true)\n",
            " |-- deposit: string (nullable = true)\n",
            "\n"
          ],
          "name": "stdout"
        }
      ]
    },
    {
      "cell_type": "code",
      "metadata": {
        "colab": {
          "base_uri": "https://localhost:8080/"
        },
        "id": "OmaXyz66-tv2",
        "outputId": "09b4b070-6bc9-4ad1-e660-04d29a062899"
      },
      "source": [
        "# bỏ cột\n",
        "df2 = df.drop(*['default','contact','poutcome'])\n",
        "df2.columns"
      ],
      "execution_count": 137,
      "outputs": [
        {
          "output_type": "execute_result",
          "data": {
            "text/plain": [
              "['age',\n",
              " 'job',\n",
              " 'marital',\n",
              " 'education',\n",
              " 'balance',\n",
              " 'housing',\n",
              " 'loan',\n",
              " 'day',\n",
              " 'month',\n",
              " 'duration',\n",
              " 'campaign',\n",
              " 'pdays',\n",
              " 'previous',\n",
              " 'deposit']"
            ]
          },
          "metadata": {
            "tags": []
          },
          "execution_count": 137
        }
      ]
    },
    {
      "cell_type": "code",
      "metadata": {
        "colab": {
          "base_uri": "https://localhost:8080/"
        },
        "id": "OOHiccBP-ttg",
        "outputId": "bdeedfd1-e713-45ff-b0d1-fde71f73264e"
      },
      "source": [
        "# lấy kích thước của dữ liệu\n",
        "(df.count() , len(df.columns))"
      ],
      "execution_count": 138,
      "outputs": [
        {
          "output_type": "execute_result",
          "data": {
            "text/plain": [
              "(11162, 17)"
            ]
          },
          "metadata": {
            "tags": []
          },
          "execution_count": 138
        }
      ]
    },
    {
      "cell_type": "code",
      "metadata": {
        "colab": {
          "base_uri": "https://localhost:8080/"
        },
        "id": "FAkPOPec-trL",
        "outputId": "6b2d3e49-365d-478d-fe8a-31cb068a2439"
      },
      "source": [
        "# lấy bản tóm tắt của các cột dữ liệu\n",
        "df.select('age', 'day', 'balance').describe().show()"
      ],
      "execution_count": 139,
      "outputs": [
        {
          "output_type": "stream",
          "text": [
            "+-------+------------------+------------------+------------------+\n",
            "|summary|               age|               day|           balance|\n",
            "+-------+------------------+------------------+------------------+\n",
            "|  count|             11162|             11162|             11162|\n",
            "|   mean|41.231947679627304|15.658036194230425|1528.5385235620856|\n",
            "| stddev|11.913369192215518| 8.420739541006462| 3225.413325946149|\n",
            "|    min|                18|                 1|             -6847|\n",
            "|    max|                95|                31|             81204|\n",
            "+-------+------------------+------------------+------------------+\n",
            "\n"
          ],
          "name": "stdout"
        }
      ]
    },
    {
      "cell_type": "code",
      "metadata": {
        "colab": {
          "base_uri": "https://localhost:8080/"
        },
        "id": "dn_A8r6d-tod",
        "outputId": "860b2b38-6c23-4640-844e-703897ca5bce"
      },
      "source": [
        "# import sql với pyspark\n",
        "import pyspark.sql.functions as f\n",
        "\n",
        "# tìm giá trị null ở mỗi cột\n",
        "df_agg = df.agg(*[f.count(f.when(f.isnull(c), c)).alias(c) for c in df.columns])\n",
        "df_agg.show()"
      ],
      "execution_count": 140,
      "outputs": [
        {
          "output_type": "stream",
          "text": [
            "+---+---+-------+---------+-------+-------+-------+----+-------+---+-----+--------+--------+-----+--------+--------+-------+\n",
            "|age|job|marital|education|default|balance|housing|loan|contact|day|month|duration|campaign|pdays|previous|poutcome|deposit|\n",
            "+---+---+-------+---------+-------+-------+-------+----+-------+---+-----+--------+--------+-----+--------+--------+-------+\n",
            "|  0|  0|      0|        0|      0|      0|      0|   0|      0|  0|    0|       0|       0|    0|       0|       0|      0|\n",
            "+---+---+-------+---------+-------+-------+-------+----+-------+---+-----+--------+--------+-----+--------+--------+-------+\n",
            "\n"
          ],
          "name": "stdout"
        }
      ]
    },
    {
      "cell_type": "code",
      "metadata": {
        "colab": {
          "base_uri": "https://localhost:8080/"
        },
        "id": "bMo6FUjo-tlC",
        "outputId": "1e1c01ba-9b4f-44d2-9092-0faf48c0d0d1"
      },
      "source": [
        "# dùng group by\n",
        "df.groupBy('education').count().show()"
      ],
      "execution_count": 141,
      "outputs": [
        {
          "output_type": "stream",
          "text": [
            "+---------+-----+\n",
            "|education|count|\n",
            "+---------+-----+\n",
            "|  unknown|  497|\n",
            "| tertiary| 3689|\n",
            "|secondary| 5476|\n",
            "|  primary| 1500|\n",
            "+---------+-----+\n",
            "\n"
          ],
          "name": "stdout"
        }
      ]
    },
    {
      "cell_type": "code",
      "metadata": {
        "colab": {
          "base_uri": "https://localhost:8080/"
        },
        "id": "Bfwal9C8-s8_",
        "outputId": "7f7ccd44-3381-4ef1-aaa1-4790ef182e0e"
      },
      "source": [
        "from pyspark.ml.feature import StringIndexer, OneHotEncoder\n",
        "\n",
        "# tạo đối tượng lớp StringIndexer và chỉ định cột đầu vào và đầu ra\n",
        "SI_education = StringIndexer(inputCol='education',outputCol='education_Index')\n",
        "SI_marital = StringIndexer(inputCol='marital',outputCol='marital_Index')\n",
        "SI_job = StringIndexer(inputCol='job',outputCol='job_Index')\n",
        "SI_default = StringIndexer(inputCol='default',outputCol='default_Index')\n",
        "SI_housing = StringIndexer(inputCol='housing',outputCol='housing_Index')\n",
        "SI_loan = StringIndexer(inputCol='loan',outputCol='loan_Index')\n",
        "SI_contact = StringIndexer(inputCol='contact',outputCol='contact_Index')\n",
        "SI_month = StringIndexer(inputCol='month',outputCol='month_Index')\n",
        "SI_poutcome = StringIndexer(inputCol='poutcome',outputCol='poutcome_Index')\n",
        "SI_deposit = StringIndexer(inputCol='deposit',outputCol='deposit_Index')\n",
        "\n",
        "# chuyển đổi dữ liệu\n",
        "df = SI_education.fit(df).transform(df)\n",
        "df = SI_marital.fit(df).transform(df)\n",
        "df = SI_job.fit(df).transform(df)\n",
        "df = SI_default.fit(df).transform(df)\n",
        "df = SI_housing.fit(df).transform(df)\n",
        "df = SI_loan.fit(df).transform(df)\n",
        "df = SI_contact.fit(df).transform(df)\n",
        "df = SI_month.fit(df).transform(df)\n",
        "df = SI_poutcome.fit(df).transform(df)\n",
        "df = SI_deposit.fit(df).transform(df)\n",
        "\n",
        "# xem dữ liệu sau khi chuyển đổi\n",
        "df.select('education', 'education_Index', 'marital', 'marital_Index').show(20)"
      ],
      "execution_count": 142,
      "outputs": [
        {
          "output_type": "stream",
          "text": [
            "+---------+---------------+--------+-------------+\n",
            "|education|education_Index| marital|marital_Index|\n",
            "+---------+---------------+--------+-------------+\n",
            "|secondary|            0.0| married|          0.0|\n",
            "|secondary|            0.0| married|          0.0|\n",
            "|secondary|            0.0| married|          0.0|\n",
            "|secondary|            0.0| married|          0.0|\n",
            "| tertiary|            1.0| married|          0.0|\n",
            "| tertiary|            1.0|  single|          1.0|\n",
            "| tertiary|            1.0| married|          0.0|\n",
            "|secondary|            0.0|divorced|          2.0|\n",
            "|secondary|            0.0| married|          0.0|\n",
            "|secondary|            0.0|  single|          1.0|\n",
            "|secondary|            0.0|  single|          1.0|\n",
            "|secondary|            0.0| married|          0.0|\n",
            "| tertiary|            1.0| married|          0.0|\n",
            "| tertiary|            1.0|  single|          1.0|\n",
            "| tertiary|            1.0|  single|          1.0|\n",
            "| tertiary|            1.0|divorced|          2.0|\n",
            "|  primary|            2.0|  single|          1.0|\n",
            "|secondary|            0.0| married|          0.0|\n",
            "|secondary|            0.0| married|          0.0|\n",
            "|secondary|            0.0|divorced|          2.0|\n",
            "+---------+---------------+--------+-------------+\n",
            "only showing top 20 rows\n",
            "\n"
          ],
          "name": "stdout"
        }
      ]
    },
    {
      "cell_type": "markdown",
      "metadata": {
        "id": "91ecm5UuIOGJ"
      },
      "source": [
        "**One-Hot Encoding**\n",
        "\n",
        "> Dùng để mã hóa các dữ liệu bị thiếu. Đầu tiên, chúng ta cần sử dụng StringIndexer để chuyển biến thành dạng số và sau đó sử dụng OneHotEncoderEstimator để mã hóa nhiều cột của tập dữ liệu.\n",
        "\n"
      ]
    },
    {
      "cell_type": "code",
      "metadata": {
        "colab": {
          "base_uri": "https://localhost:8080/"
        },
        "id": "ItMM3rWVICdU",
        "outputId": "405079e2-9ed9-44f3-927b-d89c52de4550"
      },
      "source": [
        "from pyspark.ml.feature import OneHotEncoder\n",
        "\n",
        "# tạo đối tượng và chỉ định cột đầu vào và đầu ra\n",
        "OHE = OneHotEncoder(inputCols=['education_Index', 'marital_Index'],outputCols=['education_OHE', 'marital_OHE'])\n",
        "\n",
        "# chuyển đổi dữ liệu\n",
        "df = OHE.fit(df).transform(df)\n",
        "\n",
        "# xem dữ liệu\n",
        "df.select('education', 'education_Index', 'education_OHE', 'marital', 'marital_Index', 'marital_OHE').show(10)\n"
      ],
      "execution_count": 143,
      "outputs": [
        {
          "output_type": "stream",
          "text": [
            "+---------+---------------+-------------+--------+-------------+-------------+\n",
            "|education|education_Index|education_OHE| marital|marital_Index|  marital_OHE|\n",
            "+---------+---------------+-------------+--------+-------------+-------------+\n",
            "|secondary|            0.0|(3,[0],[1.0])| married|          0.0|(2,[0],[1.0])|\n",
            "|secondary|            0.0|(3,[0],[1.0])| married|          0.0|(2,[0],[1.0])|\n",
            "|secondary|            0.0|(3,[0],[1.0])| married|          0.0|(2,[0],[1.0])|\n",
            "|secondary|            0.0|(3,[0],[1.0])| married|          0.0|(2,[0],[1.0])|\n",
            "| tertiary|            1.0|(3,[1],[1.0])| married|          0.0|(2,[0],[1.0])|\n",
            "| tertiary|            1.0|(3,[1],[1.0])|  single|          1.0|(2,[1],[1.0])|\n",
            "| tertiary|            1.0|(3,[1],[1.0])| married|          0.0|(2,[0],[1.0])|\n",
            "|secondary|            0.0|(3,[0],[1.0])|divorced|          2.0|    (2,[],[])|\n",
            "|secondary|            0.0|(3,[0],[1.0])| married|          0.0|(2,[0],[1.0])|\n",
            "|secondary|            0.0|(3,[0],[1.0])|  single|          1.0|(2,[1],[1.0])|\n",
            "+---------+---------------+-------------+--------+-------------+-------------+\n",
            "only showing top 10 rows\n",
            "\n"
          ],
          "name": "stdout"
        }
      ]
    },
    {
      "cell_type": "markdown",
      "metadata": {
        "id": "ZUEQL39kK3JM"
      },
      "source": [
        "**Vector Assembler**\n",
        "\n",
        "\n",
        "> Kết hợp danh sách các cột thành một vector\n",
        "\n"
      ]
    },
    {
      "cell_type": "code",
      "metadata": {
        "colab": {
          "base_uri": "https://localhost:8080/"
        },
        "id": "n5rprNDuLM1_",
        "outputId": "1473bc39-6d21-482b-9731-848d3ebbfa71"
      },
      "source": [
        "from pyspark.ml.feature import VectorAssembler\n",
        "\n",
        "# chỉ định các cột đầu vào và đầu ra của vector assembler\n",
        "assembler = VectorAssembler(inputCols=[\n",
        "                                       'education_Index',\n",
        "                                       'marital_Index',\n",
        "                                       'education_OHE',\n",
        "                                       'marital_OHE'],\n",
        "                           outputCol='vector')\n",
        "\n",
        "# điền các chỗ trống là 0\n",
        "df_schema = df.fillna(0)\n",
        "\n",
        "# transform the data\n",
        "final_df = assembler.transform(df)\n",
        "\n",
        "# view the transformed vector\n",
        "final_df.select('vector').show()"
      ],
      "execution_count": 144,
      "outputs": [
        {
          "output_type": "stream",
          "text": [
            "+--------------------+\n",
            "|              vector|\n",
            "+--------------------+\n",
            "| (7,[2,5],[1.0,1.0])|\n",
            "| (7,[2,5],[1.0,1.0])|\n",
            "| (7,[2,5],[1.0,1.0])|\n",
            "| (7,[2,5],[1.0,1.0])|\n",
            "|(7,[0,3,5],[1.0,1...|\n",
            "|[1.0,1.0,0.0,1.0,...|\n",
            "|(7,[0,3,5],[1.0,1...|\n",
            "| (7,[1,2],[2.0,1.0])|\n",
            "| (7,[2,5],[1.0,1.0])|\n",
            "|(7,[1,2,6],[1.0,1...|\n",
            "|(7,[1,2,6],[1.0,1...|\n",
            "| (7,[2,5],[1.0,1.0])|\n",
            "|(7,[0,3,5],[1.0,1...|\n",
            "|[1.0,1.0,0.0,1.0,...|\n",
            "|[1.0,1.0,0.0,1.0,...|\n",
            "|(7,[0,1,3],[1.0,2...|\n",
            "|[2.0,1.0,0.0,0.0,...|\n",
            "| (7,[2,5],[1.0,1.0])|\n",
            "| (7,[2,5],[1.0,1.0])|\n",
            "| (7,[1,2],[2.0,1.0])|\n",
            "+--------------------+\n",
            "only showing top 20 rows\n",
            "\n"
          ],
          "name": "stdout"
        }
      ]
    },
    {
      "cell_type": "markdown",
      "metadata": {
        "id": "qHGzTb0EMPRk"
      },
      "source": [
        "**Logistic Regression**"
      ]
    },
    {
      "cell_type": "code",
      "metadata": {
        "colab": {
          "base_uri": "https://localhost:8080/"
        },
        "id": "eDdXIUHuMev2",
        "outputId": "5db9486d-025f-41cb-a956-c2f59047b758"
      },
      "source": [
        "df.show()"
      ],
      "execution_count": 145,
      "outputs": [
        {
          "output_type": "stream",
          "text": [
            "+---+-----------+--------+---------+-------+-------+-------+----+-------+---+-----+--------+--------+-----+--------+--------+-------+---------------+-------------+---------+-------------+-------------+----------+-------------+-----------+--------------+-------------+-------------+-------------+\n",
            "|age|        job| marital|education|default|balance|housing|loan|contact|day|month|duration|campaign|pdays|previous|poutcome|deposit|education_Index|marital_Index|job_Index|default_Index|housing_Index|loan_Index|contact_Index|month_Index|poutcome_Index|deposit_Index|education_OHE|  marital_OHE|\n",
            "+---+-----------+--------+---------+-------+-------+-------+----+-------+---+-----+--------+--------+-----+--------+--------+-------+---------------+-------------+---------+-------------+-------------+----------+-------------+-----------+--------------+-------------+-------------+-------------+\n",
            "| 59|     admin.| married|secondary|     no|   2343|    yes|  no|unknown|  5|  may|    1042|       1|   -1|       0| unknown|    yes|            0.0|          0.0|      3.0|          0.0|          1.0|       0.0|          1.0|        0.0|           0.0|          1.0|(3,[0],[1.0])|(2,[0],[1.0])|\n",
            "| 56|     admin.| married|secondary|     no|     45|     no|  no|unknown|  5|  may|    1467|       1|   -1|       0| unknown|    yes|            0.0|          0.0|      3.0|          0.0|          0.0|       0.0|          1.0|        0.0|           0.0|          1.0|(3,[0],[1.0])|(2,[0],[1.0])|\n",
            "| 41| technician| married|secondary|     no|   1270|    yes|  no|unknown|  5|  may|    1389|       1|   -1|       0| unknown|    yes|            0.0|          0.0|      2.0|          0.0|          1.0|       0.0|          1.0|        0.0|           0.0|          1.0|(3,[0],[1.0])|(2,[0],[1.0])|\n",
            "| 55|   services| married|secondary|     no|   2476|    yes|  no|unknown|  5|  may|     579|       1|   -1|       0| unknown|    yes|            0.0|          0.0|      4.0|          0.0|          1.0|       0.0|          1.0|        0.0|           0.0|          1.0|(3,[0],[1.0])|(2,[0],[1.0])|\n",
            "| 54|     admin.| married| tertiary|     no|    184|     no|  no|unknown|  5|  may|     673|       2|   -1|       0| unknown|    yes|            1.0|          0.0|      3.0|          0.0|          0.0|       0.0|          1.0|        0.0|           0.0|          1.0|(3,[1],[1.0])|(2,[0],[1.0])|\n",
            "| 42| management|  single| tertiary|     no|      0|    yes| yes|unknown|  5|  may|     562|       2|   -1|       0| unknown|    yes|            1.0|          1.0|      0.0|          0.0|          1.0|       1.0|          1.0|        0.0|           0.0|          1.0|(3,[1],[1.0])|(2,[1],[1.0])|\n",
            "| 56| management| married| tertiary|     no|    830|    yes| yes|unknown|  6|  may|    1201|       1|   -1|       0| unknown|    yes|            1.0|          0.0|      0.0|          0.0|          1.0|       1.0|          1.0|        0.0|           0.0|          1.0|(3,[1],[1.0])|(2,[0],[1.0])|\n",
            "| 60|    retired|divorced|secondary|     no|    545|    yes|  no|unknown|  6|  may|    1030|       1|   -1|       0| unknown|    yes|            0.0|          2.0|      5.0|          0.0|          1.0|       0.0|          1.0|        0.0|           0.0|          1.0|(3,[0],[1.0])|    (2,[],[])|\n",
            "| 37| technician| married|secondary|     no|      1|    yes|  no|unknown|  6|  may|     608|       1|   -1|       0| unknown|    yes|            0.0|          0.0|      2.0|          0.0|          1.0|       0.0|          1.0|        0.0|           0.0|          1.0|(3,[0],[1.0])|(2,[0],[1.0])|\n",
            "| 28|   services|  single|secondary|     no|   5090|    yes|  no|unknown|  6|  may|    1297|       3|   -1|       0| unknown|    yes|            0.0|          1.0|      4.0|          0.0|          1.0|       0.0|          1.0|        0.0|           0.0|          1.0|(3,[0],[1.0])|(2,[1],[1.0])|\n",
            "| 38|     admin.|  single|secondary|     no|    100|    yes|  no|unknown|  7|  may|     786|       1|   -1|       0| unknown|    yes|            0.0|          1.0|      3.0|          0.0|          1.0|       0.0|          1.0|        0.0|           0.0|          1.0|(3,[0],[1.0])|(2,[1],[1.0])|\n",
            "| 30|blue-collar| married|secondary|     no|    309|    yes|  no|unknown|  7|  may|    1574|       2|   -1|       0| unknown|    yes|            0.0|          0.0|      1.0|          0.0|          1.0|       0.0|          1.0|        0.0|           0.0|          1.0|(3,[0],[1.0])|(2,[0],[1.0])|\n",
            "| 29| management| married| tertiary|     no|    199|    yes| yes|unknown|  7|  may|    1689|       4|   -1|       0| unknown|    yes|            1.0|          0.0|      0.0|          0.0|          1.0|       1.0|          1.0|        0.0|           0.0|          1.0|(3,[1],[1.0])|(2,[0],[1.0])|\n",
            "| 46|blue-collar|  single| tertiary|     no|    460|    yes|  no|unknown|  7|  may|    1102|       2|   -1|       0| unknown|    yes|            1.0|          1.0|      1.0|          0.0|          1.0|       0.0|          1.0|        0.0|           0.0|          1.0|(3,[1],[1.0])|(2,[1],[1.0])|\n",
            "| 31| technician|  single| tertiary|     no|    703|    yes|  no|unknown|  8|  may|     943|       2|   -1|       0| unknown|    yes|            1.0|          1.0|      2.0|          0.0|          1.0|       0.0|          1.0|        0.0|           0.0|          1.0|(3,[1],[1.0])|(2,[1],[1.0])|\n",
            "| 35| management|divorced| tertiary|     no|   3837|    yes|  no|unknown|  8|  may|    1084|       1|   -1|       0| unknown|    yes|            1.0|          2.0|      0.0|          0.0|          1.0|       0.0|          1.0|        0.0|           0.0|          1.0|(3,[1],[1.0])|    (2,[],[])|\n",
            "| 32|blue-collar|  single|  primary|     no|    611|    yes|  no|unknown|  8|  may|     541|       3|   -1|       0| unknown|    yes|            2.0|          1.0|      1.0|          0.0|          1.0|       0.0|          1.0|        0.0|           0.0|          1.0|(3,[2],[1.0])|(2,[1],[1.0])|\n",
            "| 49|   services| married|secondary|     no|     -8|    yes|  no|unknown|  8|  may|    1119|       1|   -1|       0| unknown|    yes|            0.0|          0.0|      4.0|          0.0|          1.0|       0.0|          1.0|        0.0|           0.0|          1.0|(3,[0],[1.0])|(2,[0],[1.0])|\n",
            "| 41|     admin.| married|secondary|     no|     55|    yes|  no|unknown|  8|  may|    1120|       2|   -1|       0| unknown|    yes|            0.0|          0.0|      3.0|          0.0|          1.0|       0.0|          1.0|        0.0|           0.0|          1.0|(3,[0],[1.0])|(2,[0],[1.0])|\n",
            "| 49|     admin.|divorced|secondary|     no|    168|    yes| yes|unknown|  8|  may|     513|       1|   -1|       0| unknown|    yes|            0.0|          2.0|      3.0|          0.0|          1.0|       1.0|          1.0|        0.0|           0.0|          1.0|(3,[0],[1.0])|    (2,[],[])|\n",
            "+---+-----------+--------+---------+-------+-------+-------+----+-------+---+-----+--------+--------+-----+--------+--------+-------+---------------+-------------+---------+-------------+-------------+----------+-------------+-----------+--------------+-------------+-------------+-------------+\n",
            "only showing top 20 rows\n",
            "\n"
          ],
          "name": "stdout"
        }
      ]
    },
    {
      "cell_type": "code",
      "metadata": {
        "colab": {
          "base_uri": "https://localhost:8080/"
        },
        "id": "1nD6XAdjefsJ",
        "outputId": "c59eace3-e76b-4dce-b58d-e088e4c04792"
      },
      "source": [
        "import pyspark.sql.functions as F\n",
        "\n",
        "df_ = df.drop(*['job','marital','education','default','housing','loan','contact','month','poutcome','deposit','education_OHE','marital_OHE','deposit'])\n",
        "df_.show()"
      ],
      "execution_count": 146,
      "outputs": [
        {
          "output_type": "stream",
          "text": [
            "+---+-------+---+--------+--------+-----+--------+---------------+-------------+---------+-------------+-------------+----------+-------------+-----------+--------------+-------------+\n",
            "|age|balance|day|duration|campaign|pdays|previous|education_Index|marital_Index|job_Index|default_Index|housing_Index|loan_Index|contact_Index|month_Index|poutcome_Index|deposit_Index|\n",
            "+---+-------+---+--------+--------+-----+--------+---------------+-------------+---------+-------------+-------------+----------+-------------+-----------+--------------+-------------+\n",
            "| 59|   2343|  5|    1042|       1|   -1|       0|            0.0|          0.0|      3.0|          0.0|          1.0|       0.0|          1.0|        0.0|           0.0|          1.0|\n",
            "| 56|     45|  5|    1467|       1|   -1|       0|            0.0|          0.0|      3.0|          0.0|          0.0|       0.0|          1.0|        0.0|           0.0|          1.0|\n",
            "| 41|   1270|  5|    1389|       1|   -1|       0|            0.0|          0.0|      2.0|          0.0|          1.0|       0.0|          1.0|        0.0|           0.0|          1.0|\n",
            "| 55|   2476|  5|     579|       1|   -1|       0|            0.0|          0.0|      4.0|          0.0|          1.0|       0.0|          1.0|        0.0|           0.0|          1.0|\n",
            "| 54|    184|  5|     673|       2|   -1|       0|            1.0|          0.0|      3.0|          0.0|          0.0|       0.0|          1.0|        0.0|           0.0|          1.0|\n",
            "| 42|      0|  5|     562|       2|   -1|       0|            1.0|          1.0|      0.0|          0.0|          1.0|       1.0|          1.0|        0.0|           0.0|          1.0|\n",
            "| 56|    830|  6|    1201|       1|   -1|       0|            1.0|          0.0|      0.0|          0.0|          1.0|       1.0|          1.0|        0.0|           0.0|          1.0|\n",
            "| 60|    545|  6|    1030|       1|   -1|       0|            0.0|          2.0|      5.0|          0.0|          1.0|       0.0|          1.0|        0.0|           0.0|          1.0|\n",
            "| 37|      1|  6|     608|       1|   -1|       0|            0.0|          0.0|      2.0|          0.0|          1.0|       0.0|          1.0|        0.0|           0.0|          1.0|\n",
            "| 28|   5090|  6|    1297|       3|   -1|       0|            0.0|          1.0|      4.0|          0.0|          1.0|       0.0|          1.0|        0.0|           0.0|          1.0|\n",
            "| 38|    100|  7|     786|       1|   -1|       0|            0.0|          1.0|      3.0|          0.0|          1.0|       0.0|          1.0|        0.0|           0.0|          1.0|\n",
            "| 30|    309|  7|    1574|       2|   -1|       0|            0.0|          0.0|      1.0|          0.0|          1.0|       0.0|          1.0|        0.0|           0.0|          1.0|\n",
            "| 29|    199|  7|    1689|       4|   -1|       0|            1.0|          0.0|      0.0|          0.0|          1.0|       1.0|          1.0|        0.0|           0.0|          1.0|\n",
            "| 46|    460|  7|    1102|       2|   -1|       0|            1.0|          1.0|      1.0|          0.0|          1.0|       0.0|          1.0|        0.0|           0.0|          1.0|\n",
            "| 31|    703|  8|     943|       2|   -1|       0|            1.0|          1.0|      2.0|          0.0|          1.0|       0.0|          1.0|        0.0|           0.0|          1.0|\n",
            "| 35|   3837|  8|    1084|       1|   -1|       0|            1.0|          2.0|      0.0|          0.0|          1.0|       0.0|          1.0|        0.0|           0.0|          1.0|\n",
            "| 32|    611|  8|     541|       3|   -1|       0|            2.0|          1.0|      1.0|          0.0|          1.0|       0.0|          1.0|        0.0|           0.0|          1.0|\n",
            "| 49|     -8|  8|    1119|       1|   -1|       0|            0.0|          0.0|      4.0|          0.0|          1.0|       0.0|          1.0|        0.0|           0.0|          1.0|\n",
            "| 41|     55|  8|    1120|       2|   -1|       0|            0.0|          0.0|      3.0|          0.0|          1.0|       0.0|          1.0|        0.0|           0.0|          1.0|\n",
            "| 49|    168|  8|     513|       1|   -1|       0|            0.0|          2.0|      3.0|          0.0|          1.0|       1.0|          1.0|        0.0|           0.0|          1.0|\n",
            "+---+-------+---+--------+--------+-----+--------+---------------+-------------+---------+-------------+-------------+----------+-------------+-----------+--------------+-------------+\n",
            "only showing top 20 rows\n",
            "\n"
          ],
          "name": "stdout"
        }
      ]
    },
    {
      "cell_type": "code",
      "metadata": {
        "id": "EW-Bx0V_NMPk"
      },
      "source": [
        ""
      ],
      "execution_count": 153,
      "outputs": []
    },
    {
      "cell_type": "code",
      "metadata": {
        "colab": {
          "base_uri": "https://localhost:8080/",
          "height": 431
        },
        "id": "TQILR7_SakNV",
        "outputId": "d06023b2-ac5f-4bf4-e4ea-9734e54c8354"
      },
      "source": [
        "df_.toPandas()"
      ],
      "execution_count": 154,
      "outputs": [
        {
          "output_type": "execute_result",
          "data": {
            "text/html": [
              "<div>\n",
              "<style scoped>\n",
              "    .dataframe tbody tr th:only-of-type {\n",
              "        vertical-align: middle;\n",
              "    }\n",
              "\n",
              "    .dataframe tbody tr th {\n",
              "        vertical-align: top;\n",
              "    }\n",
              "\n",
              "    .dataframe thead th {\n",
              "        text-align: right;\n",
              "    }\n",
              "</style>\n",
              "<table border=\"1\" class=\"dataframe\">\n",
              "  <thead>\n",
              "    <tr style=\"text-align: right;\">\n",
              "      <th></th>\n",
              "      <th>age</th>\n",
              "      <th>balance</th>\n",
              "      <th>day</th>\n",
              "      <th>duration</th>\n",
              "      <th>campaign</th>\n",
              "      <th>pdays</th>\n",
              "      <th>previous</th>\n",
              "      <th>education_Index</th>\n",
              "      <th>marital_Index</th>\n",
              "      <th>job_Index</th>\n",
              "      <th>default_Index</th>\n",
              "      <th>housing_Index</th>\n",
              "      <th>loan_Index</th>\n",
              "      <th>contact_Index</th>\n",
              "      <th>month_Index</th>\n",
              "      <th>poutcome_Index</th>\n",
              "      <th>deposit_Index</th>\n",
              "    </tr>\n",
              "  </thead>\n",
              "  <tbody>\n",
              "    <tr>\n",
              "      <th>0</th>\n",
              "      <td>59</td>\n",
              "      <td>2343</td>\n",
              "      <td>5</td>\n",
              "      <td>1042</td>\n",
              "      <td>1</td>\n",
              "      <td>-1</td>\n",
              "      <td>0</td>\n",
              "      <td>0.0</td>\n",
              "      <td>0.0</td>\n",
              "      <td>3.0</td>\n",
              "      <td>0.0</td>\n",
              "      <td>1.0</td>\n",
              "      <td>0.0</td>\n",
              "      <td>1.0</td>\n",
              "      <td>0.0</td>\n",
              "      <td>0.0</td>\n",
              "      <td>1.0</td>\n",
              "    </tr>\n",
              "    <tr>\n",
              "      <th>1</th>\n",
              "      <td>56</td>\n",
              "      <td>45</td>\n",
              "      <td>5</td>\n",
              "      <td>1467</td>\n",
              "      <td>1</td>\n",
              "      <td>-1</td>\n",
              "      <td>0</td>\n",
              "      <td>0.0</td>\n",
              "      <td>0.0</td>\n",
              "      <td>3.0</td>\n",
              "      <td>0.0</td>\n",
              "      <td>0.0</td>\n",
              "      <td>0.0</td>\n",
              "      <td>1.0</td>\n",
              "      <td>0.0</td>\n",
              "      <td>0.0</td>\n",
              "      <td>1.0</td>\n",
              "    </tr>\n",
              "    <tr>\n",
              "      <th>2</th>\n",
              "      <td>41</td>\n",
              "      <td>1270</td>\n",
              "      <td>5</td>\n",
              "      <td>1389</td>\n",
              "      <td>1</td>\n",
              "      <td>-1</td>\n",
              "      <td>0</td>\n",
              "      <td>0.0</td>\n",
              "      <td>0.0</td>\n",
              "      <td>2.0</td>\n",
              "      <td>0.0</td>\n",
              "      <td>1.0</td>\n",
              "      <td>0.0</td>\n",
              "      <td>1.0</td>\n",
              "      <td>0.0</td>\n",
              "      <td>0.0</td>\n",
              "      <td>1.0</td>\n",
              "    </tr>\n",
              "    <tr>\n",
              "      <th>3</th>\n",
              "      <td>55</td>\n",
              "      <td>2476</td>\n",
              "      <td>5</td>\n",
              "      <td>579</td>\n",
              "      <td>1</td>\n",
              "      <td>-1</td>\n",
              "      <td>0</td>\n",
              "      <td>0.0</td>\n",
              "      <td>0.0</td>\n",
              "      <td>4.0</td>\n",
              "      <td>0.0</td>\n",
              "      <td>1.0</td>\n",
              "      <td>0.0</td>\n",
              "      <td>1.0</td>\n",
              "      <td>0.0</td>\n",
              "      <td>0.0</td>\n",
              "      <td>1.0</td>\n",
              "    </tr>\n",
              "    <tr>\n",
              "      <th>4</th>\n",
              "      <td>54</td>\n",
              "      <td>184</td>\n",
              "      <td>5</td>\n",
              "      <td>673</td>\n",
              "      <td>2</td>\n",
              "      <td>-1</td>\n",
              "      <td>0</td>\n",
              "      <td>1.0</td>\n",
              "      <td>0.0</td>\n",
              "      <td>3.0</td>\n",
              "      <td>0.0</td>\n",
              "      <td>0.0</td>\n",
              "      <td>0.0</td>\n",
              "      <td>1.0</td>\n",
              "      <td>0.0</td>\n",
              "      <td>0.0</td>\n",
              "      <td>1.0</td>\n",
              "    </tr>\n",
              "    <tr>\n",
              "      <th>...</th>\n",
              "      <td>...</td>\n",
              "      <td>...</td>\n",
              "      <td>...</td>\n",
              "      <td>...</td>\n",
              "      <td>...</td>\n",
              "      <td>...</td>\n",
              "      <td>...</td>\n",
              "      <td>...</td>\n",
              "      <td>...</td>\n",
              "      <td>...</td>\n",
              "      <td>...</td>\n",
              "      <td>...</td>\n",
              "      <td>...</td>\n",
              "      <td>...</td>\n",
              "      <td>...</td>\n",
              "      <td>...</td>\n",
              "      <td>...</td>\n",
              "    </tr>\n",
              "    <tr>\n",
              "      <th>11157</th>\n",
              "      <td>33</td>\n",
              "      <td>1</td>\n",
              "      <td>20</td>\n",
              "      <td>257</td>\n",
              "      <td>1</td>\n",
              "      <td>-1</td>\n",
              "      <td>0</td>\n",
              "      <td>2.0</td>\n",
              "      <td>1.0</td>\n",
              "      <td>1.0</td>\n",
              "      <td>0.0</td>\n",
              "      <td>1.0</td>\n",
              "      <td>0.0</td>\n",
              "      <td>0.0</td>\n",
              "      <td>5.0</td>\n",
              "      <td>0.0</td>\n",
              "      <td>0.0</td>\n",
              "    </tr>\n",
              "    <tr>\n",
              "      <th>11158</th>\n",
              "      <td>39</td>\n",
              "      <td>733</td>\n",
              "      <td>16</td>\n",
              "      <td>83</td>\n",
              "      <td>4</td>\n",
              "      <td>-1</td>\n",
              "      <td>0</td>\n",
              "      <td>0.0</td>\n",
              "      <td>0.0</td>\n",
              "      <td>4.0</td>\n",
              "      <td>0.0</td>\n",
              "      <td>0.0</td>\n",
              "      <td>0.0</td>\n",
              "      <td>1.0</td>\n",
              "      <td>3.0</td>\n",
              "      <td>0.0</td>\n",
              "      <td>0.0</td>\n",
              "    </tr>\n",
              "    <tr>\n",
              "      <th>11159</th>\n",
              "      <td>32</td>\n",
              "      <td>29</td>\n",
              "      <td>19</td>\n",
              "      <td>156</td>\n",
              "      <td>2</td>\n",
              "      <td>-1</td>\n",
              "      <td>0</td>\n",
              "      <td>0.0</td>\n",
              "      <td>1.0</td>\n",
              "      <td>2.0</td>\n",
              "      <td>0.0</td>\n",
              "      <td>0.0</td>\n",
              "      <td>0.0</td>\n",
              "      <td>0.0</td>\n",
              "      <td>1.0</td>\n",
              "      <td>0.0</td>\n",
              "      <td>0.0</td>\n",
              "    </tr>\n",
              "    <tr>\n",
              "      <th>11160</th>\n",
              "      <td>43</td>\n",
              "      <td>0</td>\n",
              "      <td>8</td>\n",
              "      <td>9</td>\n",
              "      <td>2</td>\n",
              "      <td>172</td>\n",
              "      <td>5</td>\n",
              "      <td>0.0</td>\n",
              "      <td>0.0</td>\n",
              "      <td>2.0</td>\n",
              "      <td>0.0</td>\n",
              "      <td>0.0</td>\n",
              "      <td>1.0</td>\n",
              "      <td>0.0</td>\n",
              "      <td>0.0</td>\n",
              "      <td>1.0</td>\n",
              "      <td>0.0</td>\n",
              "    </tr>\n",
              "    <tr>\n",
              "      <th>11161</th>\n",
              "      <td>34</td>\n",
              "      <td>0</td>\n",
              "      <td>9</td>\n",
              "      <td>628</td>\n",
              "      <td>1</td>\n",
              "      <td>-1</td>\n",
              "      <td>0</td>\n",
              "      <td>0.0</td>\n",
              "      <td>0.0</td>\n",
              "      <td>2.0</td>\n",
              "      <td>0.0</td>\n",
              "      <td>0.0</td>\n",
              "      <td>0.0</td>\n",
              "      <td>0.0</td>\n",
              "      <td>2.0</td>\n",
              "      <td>0.0</td>\n",
              "      <td>0.0</td>\n",
              "    </tr>\n",
              "  </tbody>\n",
              "</table>\n",
              "<p>11162 rows × 17 columns</p>\n",
              "</div>"
            ],
            "text/plain": [
              "       age  balance  day  ...  month_Index  poutcome_Index  deposit_Index\n",
              "0       59     2343    5  ...          0.0             0.0            1.0\n",
              "1       56       45    5  ...          0.0             0.0            1.0\n",
              "2       41     1270    5  ...          0.0             0.0            1.0\n",
              "3       55     2476    5  ...          0.0             0.0            1.0\n",
              "4       54      184    5  ...          0.0             0.0            1.0\n",
              "...    ...      ...  ...  ...          ...             ...            ...\n",
              "11157   33        1   20  ...          5.0             0.0            0.0\n",
              "11158   39      733   16  ...          3.0             0.0            0.0\n",
              "11159   32       29   19  ...          1.0             0.0            0.0\n",
              "11160   43        0    8  ...          0.0             1.0            0.0\n",
              "11161   34        0    9  ...          2.0             0.0            0.0\n",
              "\n",
              "[11162 rows x 17 columns]"
            ]
          },
          "metadata": {
            "tags": []
          },
          "execution_count": 154
        }
      ]
    },
    {
      "cell_type": "markdown",
      "metadata": {
        "id": "GL9Ch-ghSNz4"
      },
      "source": [
        ""
      ]
    },
    {
      "cell_type": "code",
      "metadata": {
        "colab": {
          "base_uri": "https://localhost:8080/"
        },
        "id": "1cXJr_G6TIiV",
        "outputId": "da1455ea-75a1-456d-a0f5-adb0d67c64ff"
      },
      "source": [
        "class_name = 'label'\n",
        "feature_names = df_.columns[:-1]\n",
        "print(class_name)\n",
        "print(feature_names)"
      ],
      "execution_count": 155,
      "outputs": [
        {
          "output_type": "stream",
          "text": [
            "label\n",
            "['age', 'balance', 'day', 'duration', 'campaign', 'pdays', 'previous', 'education_Index', 'marital_Index', 'job_Index', 'default_Index', 'housing_Index', 'loan_Index', 'contact_Index', 'month_Index', 'poutcome_Index']\n"
          ],
          "name": "stdout"
        }
      ]
    },
    {
      "cell_type": "code",
      "metadata": {
        "colab": {
          "base_uri": "https://localhost:8080/"
        },
        "id": "CEcR9FtcSIJN",
        "outputId": "f6286374-754f-43ed-860c-5444210903db"
      },
      "source": [
        "from pyspark.ml.feature import VectorAssembler\n",
        "\n",
        "assembler = VectorAssembler()\n",
        "assembler.setInputCols(feature_names).setOutputCol('features')\n",
        "\n",
        "transformed_data = assembler.transform(df_)\n",
        "transformed_data.show()"
      ],
      "execution_count": 156,
      "outputs": [
        {
          "output_type": "stream",
          "text": [
            "+---+-------+---+--------+--------+-----+--------+---------------+-------------+---------+-------------+-------------+----------+-------------+-----------+--------------+-------------+--------------------+\n",
            "|age|balance|day|duration|campaign|pdays|previous|education_Index|marital_Index|job_Index|default_Index|housing_Index|loan_Index|contact_Index|month_Index|poutcome_Index|deposit_Index|            features|\n",
            "+---+-------+---+--------+--------+-----+--------+---------------+-------------+---------+-------------+-------------+----------+-------------+-----------+--------------+-------------+--------------------+\n",
            "| 59|   2343|  5|    1042|       1|   -1|       0|            0.0|          0.0|      3.0|          0.0|          1.0|       0.0|          1.0|        0.0|           0.0|          1.0|(16,[0,1,2,3,4,5,...|\n",
            "| 56|     45|  5|    1467|       1|   -1|       0|            0.0|          0.0|      3.0|          0.0|          0.0|       0.0|          1.0|        0.0|           0.0|          1.0|(16,[0,1,2,3,4,5,...|\n",
            "| 41|   1270|  5|    1389|       1|   -1|       0|            0.0|          0.0|      2.0|          0.0|          1.0|       0.0|          1.0|        0.0|           0.0|          1.0|(16,[0,1,2,3,4,5,...|\n",
            "| 55|   2476|  5|     579|       1|   -1|       0|            0.0|          0.0|      4.0|          0.0|          1.0|       0.0|          1.0|        0.0|           0.0|          1.0|(16,[0,1,2,3,4,5,...|\n",
            "| 54|    184|  5|     673|       2|   -1|       0|            1.0|          0.0|      3.0|          0.0|          0.0|       0.0|          1.0|        0.0|           0.0|          1.0|(16,[0,1,2,3,4,5,...|\n",
            "| 42|      0|  5|     562|       2|   -1|       0|            1.0|          1.0|      0.0|          0.0|          1.0|       1.0|          1.0|        0.0|           0.0|          1.0|[42.0,0.0,5.0,562...|\n",
            "| 56|    830|  6|    1201|       1|   -1|       0|            1.0|          0.0|      0.0|          0.0|          1.0|       1.0|          1.0|        0.0|           0.0|          1.0|[56.0,830.0,6.0,1...|\n",
            "| 60|    545|  6|    1030|       1|   -1|       0|            0.0|          2.0|      5.0|          0.0|          1.0|       0.0|          1.0|        0.0|           0.0|          1.0|[60.0,545.0,6.0,1...|\n",
            "| 37|      1|  6|     608|       1|   -1|       0|            0.0|          0.0|      2.0|          0.0|          1.0|       0.0|          1.0|        0.0|           0.0|          1.0|(16,[0,1,2,3,4,5,...|\n",
            "| 28|   5090|  6|    1297|       3|   -1|       0|            0.0|          1.0|      4.0|          0.0|          1.0|       0.0|          1.0|        0.0|           0.0|          1.0|[28.0,5090.0,6.0,...|\n",
            "| 38|    100|  7|     786|       1|   -1|       0|            0.0|          1.0|      3.0|          0.0|          1.0|       0.0|          1.0|        0.0|           0.0|          1.0|[38.0,100.0,7.0,7...|\n",
            "| 30|    309|  7|    1574|       2|   -1|       0|            0.0|          0.0|      1.0|          0.0|          1.0|       0.0|          1.0|        0.0|           0.0|          1.0|(16,[0,1,2,3,4,5,...|\n",
            "| 29|    199|  7|    1689|       4|   -1|       0|            1.0|          0.0|      0.0|          0.0|          1.0|       1.0|          1.0|        0.0|           0.0|          1.0|[29.0,199.0,7.0,1...|\n",
            "| 46|    460|  7|    1102|       2|   -1|       0|            1.0|          1.0|      1.0|          0.0|          1.0|       0.0|          1.0|        0.0|           0.0|          1.0|[46.0,460.0,7.0,1...|\n",
            "| 31|    703|  8|     943|       2|   -1|       0|            1.0|          1.0|      2.0|          0.0|          1.0|       0.0|          1.0|        0.0|           0.0|          1.0|[31.0,703.0,8.0,9...|\n",
            "| 35|   3837|  8|    1084|       1|   -1|       0|            1.0|          2.0|      0.0|          0.0|          1.0|       0.0|          1.0|        0.0|           0.0|          1.0|[35.0,3837.0,8.0,...|\n",
            "| 32|    611|  8|     541|       3|   -1|       0|            2.0|          1.0|      1.0|          0.0|          1.0|       0.0|          1.0|        0.0|           0.0|          1.0|[32.0,611.0,8.0,5...|\n",
            "| 49|     -8|  8|    1119|       1|   -1|       0|            0.0|          0.0|      4.0|          0.0|          1.0|       0.0|          1.0|        0.0|           0.0|          1.0|(16,[0,1,2,3,4,5,...|\n",
            "| 41|     55|  8|    1120|       2|   -1|       0|            0.0|          0.0|      3.0|          0.0|          1.0|       0.0|          1.0|        0.0|           0.0|          1.0|(16,[0,1,2,3,4,5,...|\n",
            "| 49|    168|  8|     513|       1|   -1|       0|            0.0|          2.0|      3.0|          0.0|          1.0|       1.0|          1.0|        0.0|           0.0|          1.0|[49.0,168.0,8.0,5...|\n",
            "+---+-------+---+--------+--------+-----+--------+---------------+-------------+---------+-------------+-------------+----------+-------------+-----------+--------------+-------------+--------------------+\n",
            "only showing top 20 rows\n",
            "\n"
          ],
          "name": "stdout"
        }
      ]
    },
    {
      "cell_type": "code",
      "metadata": {
        "id": "VeaG7PnmrTLX"
      },
      "source": [
        "training_data, test_data = transformed_data.randomSplit([0.8,0.2])"
      ],
      "execution_count": 160,
      "outputs": []
    },
    {
      "cell_type": "code",
      "metadata": {
        "colab": {
          "base_uri": "https://localhost:8080/"
        },
        "id": "G10ENM1urrrX",
        "outputId": "158d3d1d-9490-4c7c-f8b6-f77cadbda717"
      },
      "source": [
        "from pyspark.ml.classification import LogisticRegression\n",
        "from pyspark.ml.evaluation import MulticlassClassificationEvaluator\n",
        "\n",
        "model = LogisticRegression(featuresCol = 'features',labelCol='deposit_Index')\n",
        "M = model.fit(training_data)\n",
        "predictions = M.transform(test_data)\n",
        "\n",
        "multi_evaluator = MulticlassClassificationEvaluator(labelCol = 'deposit_Index', metricName = 'accuracy')\n",
        "print('Logistic Regression Accuracy:', multi_evaluator.evaluate(predictions))"
      ],
      "execution_count": 165,
      "outputs": [
        {
          "output_type": "stream",
          "text": [
            "Logistic Regression Accuracy: 0.796730004418913\n"
          ],
          "name": "stdout"
        }
      ]
    }
  ]
}